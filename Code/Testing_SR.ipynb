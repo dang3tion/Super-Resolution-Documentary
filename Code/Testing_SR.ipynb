{
  "cells": [
    {
      "cell_type": "markdown",
      "metadata": {
        "colab_type": "text",
        "id": "view-in-github"
      },
      "source": [
        "<a href=\"https://colab.research.google.com/github/dang3tion/Super-resolution-project/blob/main/Code/Testing_SR.ipynb\" target=\"_parent\"><img src=\"https://colab.research.google.com/assets/colab-badge.svg\" alt=\"Open In Colab\"/></a>"
      ]
    },
    {
      "cell_type": "code",
      "execution_count": null,
      "metadata": {
        "id": "zG01So5F385J"
      },
      "outputs": [],
      "source": []
    },
    {
      "cell_type": "markdown",
      "metadata": {
        "id": "4kfQu_nfk_Rh"
      },
      "source": [
        "# Các bước cần hoàn thành\n",
        "\n",
        "\n",
        "1.   Loading dataset bằng tensorflow, kiểm tra tập dữ liệu thích hợp (các kiểu downsampling bicubic, unknown, realist) \n",
        "2.   Kiểm tra dữ liệu, số lượng, kích cỡ.\n",
        "2.   Tiền xử lý dữ liệu (phân tách tập train, test, val, cấu trúc các dữ liệu, dữ liệu được gán nhãn).\n",
        "1.   Xây dựng các khối ResDense, Convolution, upsampling block.\n",
        "2.   Xây dựng mô hình.\n",
        "3.   Xây dựng các hàm loss.\n",
        "4.   Xử lý dữ liệu trong quá trình training.\n",
        "5.   Training.\n",
        "\n",
        "\n",
        "\n",
        "\n"
      ]
    },
    {
      "cell_type": "code",
      "execution_count": null,
      "metadata": {
        "id": "h077W1jJk-ZZ"
      },
      "outputs": [],
      "source": [
        "import tensorflow as tf\n",
        "import tensorflow_datasets as tfds\n",
        "\n",
        "# Construct a tf.data.Dataset\n",
        "ds,dsi = tfds.load('div2k/bicubic_x4', split='train',shuffle_files=True,as_supervised=False,with_info=True)\n",
        "\n",
        "# Build your input pipeline\n",
        "tfds.show_examples(ds,dsi,rows=2,cols=2,image_key='hr')"
      ]
    },
    {
      "cell_type": "markdown",
      "metadata": {
        "id": "nk78vqCpkuSb"
      },
      "source": [
        "tf.data.Dataset."
      ]
    },
    {
      "cell_type": "code",
      "execution_count": null,
      "metadata": {
        "id": "f_KYpPDNklm1"
      },
      "outputs": [],
      "source": [
        "from tensorflow.data.Dataset import DIV2K\n",
        "\n",
        "train = DIV2K(scale=4, downgrade='bicubic', subset='train')\n",
        "train_ds = train.dataset(batch_size=16, random_transform=True)"
      ]
    },
    {
      "cell_type": "code",
      "execution_count": null,
      "metadata": {
        "id": "gfkUbtUsYKFs"
      },
      "outputs": [],
      "source": [
        "import tensorflow as tf"
      ]
    },
    {
      "cell_type": "code",
      "execution_count": null,
      "metadata": {},
      "outputs": [],
      "source": []
    },
    {
      "cell_type": "code",
      "execution_count": 1,
      "metadata": {},
      "outputs": [],
      "source": [
        "from Dataset.data import load\n",
        "a=load()"
      ]
    },
    {
      "cell_type": "code",
      "execution_count": 2,
      "metadata": {},
      "outputs": [
        {
          "data": {
            "text/plain": [
              "12"
            ]
          },
          "execution_count": 2,
          "metadata": {},
          "output_type": "execute_result"
        }
      ],
      "source": [
        "a"
      ]
    },
    {
      "cell_type": "markdown",
      "metadata": {
        "id": "htReKAN2k9uM"
      },
      "source": []
    }
  ],
  "metadata": {
    "colab": {
      "authorship_tag": "ABX9TyNnzkzzZqbBaMpHlBAqc1w0",
      "collapsed_sections": [],
      "include_colab_link": true,
      "name": "Testing_SR.ipynb",
      "provenance": []
    },
    "kernelspec": {
      "display_name": "Python 3",
      "name": "python3"
    },
    "language_info": {
      "codemirror_mode": {
        "name": "ipython",
        "version": 3
      },
      "file_extension": ".py",
      "mimetype": "text/x-python",
      "name": "python",
      "nbconvert_exporter": "python",
      "pygments_lexer": "ipython3",
      "version": "3.8.8"
    }
  },
  "nbformat": 4,
  "nbformat_minor": 0
}
